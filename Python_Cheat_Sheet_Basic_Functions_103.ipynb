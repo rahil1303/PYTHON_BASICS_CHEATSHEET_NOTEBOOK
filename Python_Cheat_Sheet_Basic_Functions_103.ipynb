{
 "cells": [
  {
   "cell_type": "markdown",
   "id": "04a630f2",
   "metadata": {},
   "source": [
    "# COVER ALL PYTHON BASICS: PART 3 (103)\n"
   ]
  },
  {
   "cell_type": "markdown",
   "id": "5d642519",
   "metadata": {},
   "source": [
    "## Data Structures in Python 2\n"
   ]
  },
  {
   "cell_type": "markdown",
   "id": "86dde0d6",
   "metadata": {},
   "source": [
    "List comprehensions are used for creating new lists from other iterables like tuples, strings, arrays, lists, etc. A list comprehension consists of brackets containing the expression, which is executed for each element along with the for loop to iterate over each element. "
   ]
  },
  {
   "cell_type": "markdown",
   "id": "741b598b",
   "metadata": {},
   "source": [
    "Advantages of List Comprehension:\n",
    "More time efficient and space efficient than loops.\n",
    "Require fewer lines of code.\n",
    "Transforms iterative statement into a formula.\n"
   ]
  },
  {
   "cell_type": "markdown",
   "id": "70e6212c",
   "metadata": {},
   "source": [
    "Comprehension of the list is an effective means of describing and constructing lists based on current lists.\n",
    "Generally, list comprehension is more lightweight and simpler than standard list formation functions and loops.\n",
    "We should not write long codes for list comprehensions in order to ensure user-friendly code.\n",
    "Every comprehension of the list can be rewritten in for loop, but in the context of list interpretation, every for loop can not be rewritten."
   ]
  },
  {
   "cell_type": "code",
   "execution_count": 1,
   "id": "c0f6553b",
   "metadata": {},
   "outputs": [
    {
     "name": "stdout",
     "output_type": "stream",
     "text": [
      "['G', 'e', 'e', 'k', 's', ' ', '4', ' ', 'G', 'e', 'e', 'k', 's', '!']\n"
     ]
    }
   ],
   "source": [
    "List = [character for character in 'Geeks 4 Geeks!']\n",
    " \n",
    "# Displaying list\n",
    "print(List)"
   ]
  },
  {
   "cell_type": "code",
   "execution_count": 2,
   "id": "3c6dcc54",
   "metadata": {},
   "outputs": [
    {
     "name": "stdout",
     "output_type": "stream",
     "text": [
      "[[0, 1, 2, 3, 4], [0, 1, 2, 3, 4], [0, 1, 2, 3, 4]]\n"
     ]
    }
   ],
   "source": [
    "matrix = [[j for j in range(5)] for i in range(3)]\n",
    "print(matrix)"
   ]
  },
  {
   "cell_type": "code",
   "execution_count": 3,
   "id": "d3285211",
   "metadata": {},
   "outputs": [
    {
     "name": "stdout",
     "output_type": "stream",
     "text": [
      "[10, 20, 30, 40, 50]\n"
     ]
    }
   ],
   "source": [
    "\n",
    "numbers= [i*10 for i in range(1,6)]\n",
    " \n",
    "print(numbers)"
   ]
  },
  {
   "cell_type": "code",
   "execution_count": 4,
   "id": "22594a40",
   "metadata": {},
   "outputs": [
    {
     "name": "stdout",
     "output_type": "stream",
     "text": [
      "[10, 20, 30, 40, 50]\n"
     ]
    }
   ],
   "source": [
    "numbers = list(map(lambda i: i*10, [i for i in range(1,6)]))\n",
    " \n",
    "print(numbers)"
   ]
  },
  {
   "cell_type": "markdown",
   "id": "6f872ccd",
   "metadata": {},
   "source": [
    "Display square of numbers from 1 to 10."
   ]
  },
  {
   "cell_type": "code",
   "execution_count": 5,
   "id": "509c07b4",
   "metadata": {},
   "outputs": [
    {
     "name": "stdout",
     "output_type": "stream",
     "text": [
      "[4, 16, 36, 64, 100]\n"
     ]
    }
   ],
   "source": [
    "squares = [n**2 for n in range(1, 11) if n%2==0]\n",
    " \n",
    "# Display square of even numbers\n",
    "print(squares)"
   ]
  },
  {
   "cell_type": "markdown",
   "id": "fc77db0b",
   "metadata": {},
   "source": [
    "Reverse each string in a tuple."
   ]
  },
  {
   "cell_type": "code",
   "execution_count": 6,
   "id": "ee5764e1",
   "metadata": {},
   "outputs": [
    {
     "name": "stdout",
     "output_type": "stream",
     "text": [
      "['skeeG', 'rof', 'skeeG']\n"
     ]
    }
   ],
   "source": [
    "List = [string[::-1] for string in ('Geeks', 'for', 'Geeks')]\n",
    " \n",
    "# Display list\n",
    "print(List)"
   ]
  },
  {
   "cell_type": "markdown",
   "id": "e0cea26d",
   "metadata": {},
   "source": [
    "### Tuples"
   ]
  },
  {
   "cell_type": "markdown",
   "id": "2f656c40",
   "metadata": {},
   "source": [
    "They are similar to lists - they allow you to display an ordered sequence of elements. However, they are immutable and you can't change the values stored in a tuple.\n",
    "\n",
    "The advantage of using tuple over lists is that the former are slightly faster. So it's a nice way to optimize your code."
   ]
  },
  {
   "cell_type": "markdown",
   "id": "a018bfa4",
   "metadata": {},
   "source": [
    "#### How to create a tuple?"
   ]
  },
  {
   "cell_type": "code",
   "execution_count": 7,
   "id": "c8e4a9b6",
   "metadata": {},
   "outputs": [
    {
     "data": {
      "text/plain": [
       "(1, 2, 3)"
      ]
     },
     "execution_count": 7,
     "metadata": {},
     "output_type": "execute_result"
    }
   ],
   "source": [
    "my_tuple = (1,2,3,4,5)\n",
    "my_tuple[0:3]\n"
   ]
  },
  {
   "cell_type": "markdown",
   "id": "66551016",
   "metadata": {},
   "source": [
    "#### How to slide a tuple?"
   ]
  },
  {
   "cell_type": "code",
   "execution_count": 8,
   "id": "5bb77f1b",
   "metadata": {},
   "outputs": [
    {
     "name": "stdout",
     "output_type": "stream",
     "text": [
      "(1, 3, 5, 7, 9)\n"
     ]
    }
   ],
   "source": [
    "numbers = (0,1,2,3,4,5,6,7,8,9,10,11,12)\n",
    "print(numbers[1:11:2])"
   ]
  },
  {
   "cell_type": "markdown",
   "id": "79205f26",
   "metadata": {},
   "source": [
    "#### Convert Tuple to a List"
   ]
  },
  {
   "cell_type": "markdown",
   "id": "1dcc684a",
   "metadata": {},
   "source": [
    "Since tuples are immutable, you can't change them. What you can do though is convert a tuple into a list, make an edit and then convert it back into a tuple."
   ]
  },
  {
   "cell_type": "code",
   "execution_count": 9,
   "id": "880c2c1b",
   "metadata": {},
   "outputs": [
    {
     "name": "stdout",
     "output_type": "stream",
     "text": [
      "('apples', 'grapes', 'pear')\n"
     ]
    }
   ],
   "source": [
    "x = (\"apples\", \"oranges\", \"pear\")\n",
    "y = list(x)\n",
    "y[1] = (\"grapes\")\n",
    "x = tuple(y)\n",
    "print(x)"
   ]
  },
  {
   "cell_type": "markdown",
   "id": "54da653d",
   "metadata": {},
   "source": [
    "### Dictionaries"
   ]
  },
  {
   "cell_type": "markdown",
   "id": "9f1f2083",
   "metadata": {},
   "source": [
    "A dictionary holds indexes with keys that are mapped to a certain values. These key value pairs offer a great way of organizing and storing data in Python. They are mutable, meaning you can change the stored information."
   ]
  },
  {
   "cell_type": "code",
   "execution_count": 14,
   "id": "f618b1bb",
   "metadata": {},
   "outputs": [
    {
     "name": "stdout",
     "output_type": "stream",
     "text": [
      "{'username': 'Saloni', 'online': False, 'friends': 123}\n"
     ]
    }
   ],
   "source": [
    "Customer_1 = {'username': 'Saloni', 'online': False, 'friends': 123}\n",
    "print(Customer_1)"
   ]
  },
  {
   "cell_type": "markdown",
   "id": "122984a4",
   "metadata": {},
   "source": [
    "#### How to create a Python Dictionary"
   ]
  },
  {
   "cell_type": "code",
   "execution_count": 16,
   "id": "49e92835",
   "metadata": {},
   "outputs": [
    {
     "name": "stdout",
     "output_type": "stream",
     "text": [
      "{}\n"
     ]
    }
   ],
   "source": [
    "##Method 1\n",
    "new_dict = {}\n",
    "print(new_dict)"
   ]
  },
  {
   "cell_type": "code",
   "execution_count": 20,
   "id": "8dadaf5d",
   "metadata": {},
   "outputs": [
    {
     "name": "stdout",
     "output_type": "stream",
     "text": [
      "{}\n"
     ]
    }
   ],
   "source": [
    "##Method 2\n",
    "other_dict = dict()\n",
    "print(other_dict)"
   ]
  },
  {
   "cell_type": "markdown",
   "id": "6e251e34",
   "metadata": {},
   "source": [
    "#### How to add value to the dictionary"
   ]
  },
  {
   "cell_type": "code",
   "execution_count": 21,
   "id": "bc2155c7",
   "metadata": {},
   "outputs": [
    {
     "name": "stdout",
     "output_type": "stream",
     "text": [
      "{'Brand': 'Honda', 'model': 'civic', 'year': 1995}\n"
     ]
    }
   ],
   "source": [
    "new_dict = {\"Brand\": \"Honda\", \"model\": \"civic\", \"year\": 1995}\n",
    "print(new_dict)"
   ]
  },
  {
   "cell_type": "markdown",
   "id": "451654f7",
   "metadata": {},
   "source": [
    "#### How to access a value in a dictionary"
   ]
  },
  {
   "cell_type": "code",
   "execution_count": 23,
   "id": "490703c2",
   "metadata": {},
   "outputs": [
    {
     "name": "stdout",
     "output_type": "stream",
     "text": [
      "Honda\n"
     ]
    }
   ],
   "source": [
    "x = new_dict[\"Brand\"]\n",
    "print(x)"
   ]
  },
  {
   "cell_type": "markdown",
   "id": "915cb75b",
   "metadata": {},
   "source": [
    "Can also use the following methods to accomplish the same\n",
    "1. dict.keys() isolates keys\n",
    "2. dict.values() isolated values\n",
    "3. dict.items() returns items in a list format of key,value tuplr pairs"
   ]
  },
  {
   "cell_type": "markdown",
   "id": "0735789f",
   "metadata": {},
   "source": [
    "#### Change Item Values\n",
    "To change one of the items, you need to refer to it by its key name:"
   ]
  },
  {
   "cell_type": "code",
   "execution_count": 28,
   "id": "0f80afb0",
   "metadata": {},
   "outputs": [
    {
     "name": "stdout",
     "output_type": "stream",
     "text": [
      "{'Brand': 'Honda', 'model': 'Civic', 'Year': 1995}\n"
     ]
    }
   ],
   "source": [
    "new_dict = {\"Brand\": \"Honda\", \"model\" : \"Civic\", \"Year\": 1995}\n",
    "print(new_dict)"
   ]
  },
  {
   "cell_type": "code",
   "execution_count": 29,
   "id": "2825be33",
   "metadata": {},
   "outputs": [
    {
     "name": "stdout",
     "output_type": "stream",
     "text": [
      "{'Brand': 'Honda', 'model': 'Civic', 'Year': 2020}\n"
     ]
    }
   ],
   "source": [
    "new_dict[\"Year\"] = 2020\n",
    "print(new_dict)"
   ]
  },
  {
   "cell_type": "markdown",
   "id": "96549187",
   "metadata": {},
   "source": [
    "### Loop Through the dictionary"
   ]
  },
  {
   "cell_type": "markdown",
   "id": "af7f203d",
   "metadata": {},
   "source": [
    "##### Print all key names in the dictionary"
   ]
  },
  {
   "cell_type": "code",
   "execution_count": 30,
   "id": "c09e857a",
   "metadata": {},
   "outputs": [
    {
     "name": "stdout",
     "output_type": "stream",
     "text": [
      "Brand\n",
      "model\n",
      "Year\n"
     ]
    }
   ],
   "source": [
    "for x in new_dict:\n",
    "    print(x)\n"
   ]
  },
  {
   "cell_type": "markdown",
   "id": "cd7f89b4",
   "metadata": {},
   "source": [
    "##### Print all values in the dictionary"
   ]
  },
  {
   "cell_type": "code",
   "execution_count": 31,
   "id": "decd902e",
   "metadata": {},
   "outputs": [
    {
     "name": "stdout",
     "output_type": "stream",
     "text": [
      "Honda\n",
      "Civic\n",
      "2020\n"
     ]
    }
   ],
   "source": [
    "for x in new_dict:\n",
    "    print(new_dict[x])"
   ]
  },
  {
   "cell_type": "markdown",
   "id": "decbd70c",
   "metadata": {},
   "source": [
    "##### Print both keys and values through loops"
   ]
  },
  {
   "cell_type": "code",
   "execution_count": 33,
   "id": "230cdb88",
   "metadata": {},
   "outputs": [
    {
     "name": "stdout",
     "output_type": "stream",
     "text": [
      "Brand Honda\n",
      "model Civic\n",
      "Year 2020\n"
     ]
    }
   ],
   "source": [
    "for x,y in new_dict.items():\n",
    "    print(x,y)"
   ]
  },
  {
   "cell_type": "code",
   "execution_count": null,
   "id": "2f7fc3f8",
   "metadata": {},
   "outputs": [],
   "source": []
  }
 ],
 "metadata": {
  "kernelspec": {
   "display_name": "Python 3",
   "language": "python",
   "name": "python3"
  },
  "language_info": {
   "codemirror_mode": {
    "name": "ipython",
    "version": 3
   },
   "file_extension": ".py",
   "mimetype": "text/x-python",
   "name": "python",
   "nbconvert_exporter": "python",
   "pygments_lexer": "ipython3",
   "version": "3.8.8"
  }
 },
 "nbformat": 4,
 "nbformat_minor": 5
}

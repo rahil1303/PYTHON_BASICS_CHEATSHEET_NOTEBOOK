{
 "cells": [
  {
   "cell_type": "markdown",
   "id": "2fc478d5",
   "metadata": {},
   "source": [
    "# COVER ALL PYTHON BASICS: PART 5 (105)\n"
   ]
  },
  {
   "cell_type": "markdown",
   "id": "3ec0b57f",
   "metadata": {},
   "source": [
    "## CLASS\n",
    "Since Python is an object oriented language almost every element of it is an object - with it's separate methods and properties.\n",
    "\n",
    "Class acts as a blueprint for cleaning different objects. Objects are an instance of a class, where the class is manifested in some programs."
   ]
  },
  {
   "cell_type": "markdown",
   "id": "e66d8c21",
   "metadata": {},
   "source": [
    "### How to create a Class?\n",
    "Lets create a class named TestClass, with one property named z:"
   ]
  },
  {
   "cell_type": "code",
   "execution_count": 3,
   "id": "52fc0c6a",
   "metadata": {},
   "outputs": [
    {
     "name": "stdout",
     "output_type": "stream",
     "text": [
      "5\n"
     ]
    }
   ],
   "source": [
    "class TestClass:\n",
    "    z = 5\n",
    "    print(z)"
   ]
  },
  {
   "cell_type": "markdown",
   "id": "6b87c593",
   "metadata": {},
   "source": [
    "### How to create an Object?\n",
    "As a next step, you can create an object using your class. Here's how it's done:"
   ]
  },
  {
   "cell_type": "code",
   "execution_count": 6,
   "id": "a83ba5d0",
   "metadata": {},
   "outputs": [
    {
     "name": "stdout",
     "output_type": "stream",
     "text": [
      "5\n"
     ]
    }
   ],
   "source": [
    "class TestClass:\n",
    "    z = 5\n",
    "    p1 = TestClass()\n",
    "    print(p1.z)"
   ]
  },
  {
   "cell_type": "markdown",
   "id": "cf493cc1",
   "metadata": {},
   "source": [
    "We can assign different attributes and methods to our object."
   ]
  },
  {
   "cell_type": "code",
   "execution_count": 9,
   "id": "da636870",
   "metadata": {},
   "outputs": [],
   "source": [
    "class car():\n",
    "    \n",
    "    \n",
    "    def __init__(self,color,doors,tires):\n",
    "        \n",
    "        self.color = color\n",
    "        self.doors = doors\n",
    "        self.tires = tires\n",
    "    def brake(self):\n",
    "        \n",
    "        return \"Braking\"\n",
    "    def drive(self):\n",
    "        \n",
    "        return \"I'm driving\"\n",
    "        "
   ]
  },
  {
   "cell_type": "markdown",
   "id": "520d35c3",
   "metadata": {},
   "source": [
    "Python has a list of in-built exceptions (errors) that will pop up whenever you make a mistake in your code. "
   ]
  },
  {
   "cell_type": "markdown",
   "id": "104a750e",
   "metadata": {},
   "source": [
    "1. Attribute Error: It pops up when an attrubute reference or assignment fails.\n",
    "2. IO Error: It emerges when some I/O operations fails for an I/O related reason EX: FILE NOT FOUND OR DISK FULL\n",
    "3. IMPORT ERROR: It comes up when an import statement cannot locate the module definition. Also, when a from Import can't find a name that must be imported.\n",
    "4. Index Error: It emerges when a sequence subscript is out of range\n",
    "5. KeyError: It raised when a dictionary key isn't found in the set of existing keys.\n",
    "6. Keyboard Interrupt: It lights up when the user hits the interrupt key\n",
    "7. NameError: It shows up when a local or global name can't be found\n",
    "8. OSError: It indicated a system related error.\n",
    "9. SyntaxError: It pops up when a parser encounters a syntax error.\n",
    "10. TypeError: Comes up when an operation or function is applied to an object of innapropriate error.\n",
    "11. ValueError: It raised when a built in operation gets an argument that has the right type but not an appropriate value, and the situtation is not described by a more precise exception such as an index error.\n",
    "12. ZeroDivisionError: It emerges when the second argument of a division or modulus operation is zero."
   ]
  },
  {
   "cell_type": "markdown",
   "id": "8658127d",
   "metadata": {},
   "source": [
    "### How to troubleshoot the Errors:\n",
    "Python has a useful statement, design just for the purpose of handling exceptions-try/expect statement. Here's a code snippet showing how you can catch KeyErrors in a dictionary using this statement."
   ]
  },
  {
   "cell_type": "code",
   "execution_count": 4,
   "id": "48a61eca",
   "metadata": {},
   "outputs": [
    {
     "name": "stdout",
     "output_type": "stream",
     "text": [
      "That key does not exist\n"
     ]
    }
   ],
   "source": [
    "my_dict = {\"a\":1, \"b\":2, \"c\":3}\n",
    "try:\n",
    "    value = my_dict[\"d\"]\n",
    "except KeyError: \n",
    "    print(\"That key does not exist\")\n",
    "    "
   ]
  },
  {
   "cell_type": "code",
   "execution_count": 5,
   "id": "14e7c0ff",
   "metadata": {},
   "outputs": [
    {
     "name": "stdout",
     "output_type": "stream",
     "text": [
      "This key is not in the dictionary\n"
     ]
    }
   ],
   "source": [
    "my_dict = {\"a\": 1,\"b\": 2,\"c\": 3}\n",
    "try:\n",
    "    value = my_dict[\"d\"]\n",
    "except IndexError:\n",
    "    print(\"This index does not exist\")\n",
    "except KeyError:\n",
    "    print(\"This key is not in the dictionary\")\n",
    "except:\n",
    "    print(\"Some other problem happened\")"
   ]
  },
  {
   "cell_type": "markdown",
   "id": "032748f5",
   "metadata": {},
   "source": [
    "### try/except with the else clause\n",
    "Adding an else clause will help you confirm that no errors were found"
   ]
  },
  {
   "cell_type": "code",
   "execution_count": 6,
   "id": "b8b32867",
   "metadata": {},
   "outputs": [
    {
     "name": "stdout",
     "output_type": "stream",
     "text": [
      "No error occurred\n"
     ]
    }
   ],
   "source": [
    "my_dict = {\"a\": 1,\"b\": 2,\"c\": 3}\n",
    "try:\n",
    "    value = my_dict[\"a\"]\n",
    "except KeyError:\n",
    "    print(\"A KeyError occurred\")\n",
    "else: \n",
    "    print(\"No error occurred\")"
   ]
  },
  {
   "cell_type": "code",
   "execution_count": null,
   "id": "2ccf9539",
   "metadata": {},
   "outputs": [],
   "source": []
  }
 ],
 "metadata": {
  "kernelspec": {
   "display_name": "Python 3",
   "language": "python",
   "name": "python3"
  },
  "language_info": {
   "codemirror_mode": {
    "name": "ipython",
    "version": 3
   },
   "file_extension": ".py",
   "mimetype": "text/x-python",
   "name": "python",
   "nbconvert_exporter": "python",
   "pygments_lexer": "ipython3",
   "version": "3.8.8"
  }
 },
 "nbformat": 4,
 "nbformat_minor": 5
}

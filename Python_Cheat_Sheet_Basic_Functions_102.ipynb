{
 "cells": [
  {
   "cell_type": "markdown",
   "id": "3a664497",
   "metadata": {},
   "source": [
    "# COVER ALL PYTHON BASICS: PART 2 (102)\n"
   ]
  },
  {
   "cell_type": "markdown",
   "id": "b643e8ea",
   "metadata": {},
   "source": [
    "## Data Structures in Python"
   ]
  },
  {
   "cell_type": "markdown",
   "id": "c1542dd8",
   "metadata": {},
   "source": [
    "### Define a Function: A function is a block of coded instructions that perform a certain action. Once properly defined, a function can be reused throughout the program and re-used.\n",
    "\n",
    "We use \"def\" keyword followed by he functio name(). The parenthesis can contain any number of parameters that your function should take or stay empty."
   ]
  },
  {
   "cell_type": "code",
   "execution_count": 2,
   "id": "eafec08a",
   "metadata": {},
   "outputs": [
    {
     "name": "stdout",
     "output_type": "stream",
     "text": [
      "What's your name?\n"
     ]
    }
   ],
   "source": [
    "def name():\n",
    "    print(\"What's your name?\")\n",
    "\n",
    "name()"
   ]
  },
  {
   "cell_type": "code",
   "execution_count": 24,
   "id": "9714c5d0",
   "metadata": {},
   "outputs": [
    {
     "name": "stdout",
     "output_type": "stream",
     "text": [
      "3 4 5\n"
     ]
    }
   ],
   "source": [
    "def add_numbers(x,y,z):\n",
    "    a = x+y \n",
    "    \n",
    "    b = x+z \n",
    "    \n",
    "    c = y+z \n",
    "    \n",
    "    print(a,b,c);\n",
    "\n",
    "add_numbers(1,2,3) "
   ]
  },
  {
   "cell_type": "markdown",
   "id": "90c41067",
   "metadata": {},
   "source": [
    "#### Pass Keyword Argument to a function"
   ]
  },
  {
   "cell_type": "code",
   "execution_count": 43,
   "id": "64605725",
   "metadata": {},
   "outputs": [
    {
     "name": "stdout",
     "output_type": "stream",
     "text": [
      "Product name White T-Shirt\n",
      "Price 15\n",
      "Product name Jeans\n",
      "Price 45\n"
     ]
    }
   ],
   "source": [
    "def product_info(product_name, price):\n",
    "    print(\"Product name\" + product_name)\n",
    "    print(\"Price\" + price)\n",
    "    \n",
    "product_info(\" White T-Shirt\", price = \" 15\");\n",
    "product_info(\" Jeans\", price = \" 45\");"
   ]
  },
  {
   "cell_type": "markdown",
   "id": "0d1e1180",
   "metadata": {},
   "source": [
    "### Data Structures in Python (BUILT IN)"
   ]
  },
  {
   "cell_type": "markdown",
   "id": "53aa507e",
   "metadata": {},
   "source": [
    "Lists are used to specify an ordered sequence of elements. In short, they help us keep all the related data together and perform the same operations on several values at once. \n",
    "\n",
    "Inside each list, the value is called an item and these are always placed in square brackets."
   ]
  },
  {
   "cell_type": "code",
   "execution_count": 47,
   "id": "bc263f69",
   "metadata": {},
   "outputs": [],
   "source": [
    "my_list = [1,2,3]\n",
    "my_list1 = [\"a\",\"b\",\"c\"]\n",
    "my_list3 = [4,\"d\",\"book\",5]"
   ]
  },
  {
   "cell_type": "code",
   "execution_count": 49,
   "id": "ed3c5c50",
   "metadata": {},
   "outputs": [
    {
     "name": "stdout",
     "output_type": "stream",
     "text": [
      "[1, 2, 3]\n",
      "['a', 'b', 'c']\n",
      "[4, 'd', 'book', 5]\n"
     ]
    }
   ],
   "source": [
    "print(my_list)\n",
    "print(my_list1)\n",
    "print(my_list3)"
   ]
  },
  {
   "cell_type": "code",
   "execution_count": 50,
   "id": "9402fcc1",
   "metadata": {},
   "outputs": [
    {
     "name": "stdout",
     "output_type": "stream",
     "text": [
      "[1, 2, 3]\n"
     ]
    }
   ],
   "source": [
    "alpha_list = list((1,2,3))\n",
    "print(alpha_list)"
   ]
  },
  {
   "cell_type": "markdown",
   "id": "dfb78104",
   "metadata": {},
   "source": [
    "How to add items to a list?\n"
   ]
  },
  {
   "cell_type": "code",
   "execution_count": 51,
   "id": "9c6dc925",
   "metadata": {},
   "outputs": [
    {
     "name": "stdout",
     "output_type": "stream",
     "text": [
      "['apple', 'banana', 'orange', 'grape']\n"
     ]
    }
   ],
   "source": [
    "beta_list = [\"apple\", \"banana\", \"orange\"]\n",
    "beta_list.append(\"grape\")\n",
    "print(beta_list)"
   ]
  },
  {
   "cell_type": "markdown",
   "id": "5077fd85",
   "metadata": {},
   "source": [
    "We can also add items to a list with a specified index"
   ]
  },
  {
   "cell_type": "code",
   "execution_count": 56,
   "id": "97d60229",
   "metadata": {},
   "outputs": [
    {
     "name": "stdout",
     "output_type": "stream",
     "text": [
      "['apple', 'banana', 'Grape', 'orange']\n"
     ]
    }
   ],
   "source": [
    "beta_list1 = [\"apple\", \"banana\", \"orange\"]\n",
    "beta_list1.insert(2, \"Grape\")\n",
    "print(beta_list1)"
   ]
  },
  {
   "cell_type": "markdown",
   "id": "eca3a825",
   "metadata": {},
   "source": [
    "How to remove an item from a list?"
   ]
  },
  {
   "cell_type": "code",
   "execution_count": 68,
   "id": "f10c6bde",
   "metadata": {},
   "outputs": [
    {
     "name": "stdout",
     "output_type": "stream",
     "text": [
      "['Grape', 'orange']\n"
     ]
    }
   ],
   "source": [
    "beta_list1\n",
    "beta_list1.remove('banana')\n",
    "print(beta_list1)"
   ]
  },
  {
   "cell_type": "code",
   "execution_count": 69,
   "id": "b5e72dd6",
   "metadata": {},
   "outputs": [
    {
     "name": "stdout",
     "output_type": "stream",
     "text": [
      "['Grape']\n"
     ]
    }
   ],
   "source": [
    "beta_list1 \n",
    "beta_list1.pop()\n",
    "print(beta_list1)"
   ]
  },
  {
   "cell_type": "code",
   "execution_count": 70,
   "id": "dc2ffc5c",
   "metadata": {},
   "outputs": [
    {
     "name": "stdout",
     "output_type": "stream",
     "text": [
      "[]\n"
     ]
    }
   ],
   "source": [
    "beta_list1\n",
    "del beta_list1 [0]\n",
    "print(beta_list1)"
   ]
  },
  {
   "cell_type": "markdown",
   "id": "2a902aed",
   "metadata": {},
   "source": [
    "Combine Two Lists"
   ]
  },
  {
   "cell_type": "code",
   "execution_count": 72,
   "id": "9a5b66a1",
   "metadata": {},
   "outputs": [
    {
     "name": "stdout",
     "output_type": "stream",
     "text": [
      "[1, 2, 3, 'a', 'b', 'c']\n"
     ]
    }
   ],
   "source": [
    "my_list = [1,2,3]\n",
    "my_list2 = [\"a\",\"b\",\"c\"]\n",
    "combo_list = my_list + my_list2\n",
    "print(combo_list)"
   ]
  },
  {
   "cell_type": "markdown",
   "id": "6fa1923e",
   "metadata": {},
   "source": [
    "Create a Nested List"
   ]
  },
  {
   "cell_type": "code",
   "execution_count": 73,
   "id": "39f13559",
   "metadata": {},
   "outputs": [
    {
     "data": {
      "text/plain": [
       "[[1, 2, 3], ['a', 'b', 'c']]"
      ]
     },
     "execution_count": 73,
     "metadata": {},
     "output_type": "execute_result"
    }
   ],
   "source": [
    "my_nested_list = [my_list, my_list2]\n",
    "my_nested_list"
   ]
  },
  {
   "cell_type": "markdown",
   "id": "072dec97",
   "metadata": {},
   "source": [
    "SORT A LIST"
   ]
  },
  {
   "cell_type": "code",
   "execution_count": 74,
   "id": "8b2fdd64",
   "metadata": {},
   "outputs": [
    {
     "data": {
      "text/plain": [
       "[2, 23, 34, 67, 88, 100]"
      ]
     },
     "execution_count": 74,
     "metadata": {},
     "output_type": "execute_result"
    }
   ],
   "source": [
    "alpha_list = [34, 23, 67, 100, 88, 2]\n",
    "alpha_list.sort()\n",
    "alpha_list"
   ]
  },
  {
   "cell_type": "markdown",
   "id": "0d2e4f66",
   "metadata": {},
   "source": [
    "Slice a list"
   ]
  },
  {
   "cell_type": "code",
   "execution_count": 75,
   "id": "9405af49",
   "metadata": {},
   "outputs": [
    {
     "data": {
      "text/plain": [
       "[2, 23, 34, 67]"
      ]
     },
     "execution_count": 75,
     "metadata": {},
     "output_type": "execute_result"
    }
   ],
   "source": [
    "alpha_list[0:4]"
   ]
  },
  {
   "cell_type": "code",
   "execution_count": 76,
   "id": "a52b7e41",
   "metadata": {},
   "outputs": [
    {
     "data": {
      "text/plain": [
       "[23, 34, 67, 88]"
      ]
     },
     "execution_count": 76,
     "metadata": {},
     "output_type": "execute_result"
    }
   ],
   "source": [
    "alpha_list[1:5]"
   ]
  },
  {
   "cell_type": "markdown",
   "id": "3f16c818",
   "metadata": {},
   "source": [
    "Change Item Value on your list"
   ]
  },
  {
   "cell_type": "code",
   "execution_count": 77,
   "id": "2489615c",
   "metadata": {},
   "outputs": [
    {
     "name": "stdout",
     "output_type": "stream",
     "text": [
      "['apple', 'pear', 'orange']\n"
     ]
    }
   ],
   "source": [
    "beta_list = ['apple', 'banana', 'orange']\n",
    "beta_list[1] = \"pear\"\n",
    "print(beta_list)"
   ]
  },
  {
   "cell_type": "markdown",
   "id": "3fe31d13",
   "metadata": {},
   "source": [
    "Loop through the list"
   ]
  },
  {
   "cell_type": "code",
   "execution_count": 81,
   "id": "5b6a294d",
   "metadata": {},
   "outputs": [
    {
     "name": "stdout",
     "output_type": "stream",
     "text": [
      "['apple', 'pear', 'orange', 'fruit', 'fruit', 'fruit', 'fruit', 'grape', 'fruit', 'grape', 'fruit', 'grape', 'fruit', 'grape', 'fruit', 'grape', 'fruit', 'grape', 'fruit', 'grape', 'fruit', 'grape']\n",
      "['apple', 'pear', 'orange', 'fruit', 'fruit', 'fruit', 'fruit', 'grape', 'fruit', 'grape', 'fruit', 'grape', 'fruit', 'grape', 'fruit', 'grape', 'fruit', 'grape', 'fruit', 'grape', 'fruit', 'grape', 'fruit', 'grape']\n",
      "['apple', 'pear', 'orange', 'fruit', 'fruit', 'fruit', 'fruit', 'grape', 'fruit', 'grape', 'fruit', 'grape', 'fruit', 'grape', 'fruit', 'grape', 'fruit', 'grape', 'fruit', 'grape', 'fruit', 'grape', 'fruit', 'grape', 'fruit', 'grape']\n"
     ]
    }
   ],
   "source": [
    "for x in range(1,4):\n",
    "    beta_list += ['fruit', 'grape']\n",
    "    print(beta_list)"
   ]
  },
  {
   "cell_type": "markdown",
   "id": "abccfc15",
   "metadata": {},
   "source": [
    "Copy a List"
   ]
  },
  {
   "cell_type": "code",
   "execution_count": 82,
   "id": "6d50ac75",
   "metadata": {},
   "outputs": [
    {
     "name": "stdout",
     "output_type": "stream",
     "text": [
      "['apple', 'pear', 'orange', 'fruit', 'fruit', 'fruit', 'fruit', 'grape', 'fruit', 'grape', 'fruit', 'grape', 'fruit', 'grape', 'fruit', 'grape', 'fruit', 'grape', 'fruit', 'grape', 'fruit', 'grape', 'fruit', 'grape', 'fruit', 'grape']\n"
     ]
    }
   ],
   "source": [
    "beta_list1 = [\"apple\", \"orange\", \"banana\"]\n",
    "beta_list1 = beta_list.copy()\n",
    "print(beta_list)"
   ]
  },
  {
   "cell_type": "code",
   "execution_count": null,
   "id": "41f0c4e9",
   "metadata": {},
   "outputs": [],
   "source": []
  }
 ],
 "metadata": {
  "kernelspec": {
   "display_name": "Python 3",
   "language": "python",
   "name": "python3"
  },
  "language_info": {
   "codemirror_mode": {
    "name": "ipython",
    "version": 3
   },
   "file_extension": ".py",
   "mimetype": "text/x-python",
   "name": "python",
   "nbconvert_exporter": "python",
   "pygments_lexer": "ipython3",
   "version": "3.8.8"
  }
 },
 "nbformat": 4,
 "nbformat_minor": 5
}

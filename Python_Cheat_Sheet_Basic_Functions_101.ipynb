{
 "cells": [
  {
   "cell_type": "markdown",
   "id": "7befc120",
   "metadata": {},
   "source": [
    "# COVER ALL PYTHON BASICS: PART 1 (101)"
   ]
  },
  {
   "cell_type": "markdown",
   "id": "d5ac6cab",
   "metadata": {},
   "source": [
    "### Basic Python String\n"
   ]
  },
  {
   "cell_type": "code",
   "execution_count": 1,
   "id": "7428b4ec",
   "metadata": {},
   "outputs": [],
   "source": [
    "my_string = \"Let's learn Python !\"\n",
    "another_string = \"It may seem difficult first, but you can do it\"\n",
    "long_string = \"Yes, you can even master multi-line strings               that cover more lines than a single line in the same way\""
   ]
  },
  {
   "cell_type": "code",
   "execution_count": 2,
   "id": "22ca4b85",
   "metadata": {},
   "outputs": [
    {
     "name": "stdout",
     "output_type": "stream",
     "text": [
      "It may seem difficult first, but you can do it\n",
      "Yes, you can even master multi-line strings               that cover more lines than a single line in the same way\n"
     ]
    }
   ],
   "source": [
    "print(another_string)\n",
    "print(long_string)"
   ]
  },
  {
   "cell_type": "markdown",
   "id": "a6edabb7",
   "metadata": {},
   "source": [
    "### String Concatenation"
   ]
  },
  {
   "cell_type": "code",
   "execution_count": 5,
   "id": "e311daeb",
   "metadata": {},
   "outputs": [],
   "source": [
    "string_one = \"I'm reading \" ### notice the space after reading to make the sentence more readible\n",
    "string_two = \"a book\"\n",
    "string_three = string_one + string_two"
   ]
  },
  {
   "cell_type": "code",
   "execution_count": 6,
   "id": "564f1dcb",
   "metadata": {},
   "outputs": [
    {
     "name": "stdout",
     "output_type": "stream",
     "text": [
      "I'm reading a book\n"
     ]
    }
   ],
   "source": [
    "print(string_three)"
   ]
  },
  {
   "cell_type": "markdown",
   "id": "53313a47",
   "metadata": {},
   "source": [
    "### String Replication"
   ]
  },
  {
   "cell_type": "code",
   "execution_count": 7,
   "id": "7710d0ec",
   "metadata": {},
   "outputs": [
    {
     "data": {
      "text/plain": [
       "'RomanoffRomanoffRomanoffRomanoffRomanoffRomanoffRomanoffRomanoffRomanoffRomanoffRomanoffRomanoffRomanoffRomanoffRomanoffRomanoffRomanoffRomanoffRomanoffRomanoffRomanoffRomanoffRomanoffRomanoffRomanoffRomanoffRomanoffRomanoffRomanoffRomanoffRomanoffRomanoffRomanoffRomanoffRomanoffRomanoffRomanoffRomanoffRomanoffRomanoffRomanoffRomanoffRomanoffRomanoffRomanoffRomanoffRomanoffRomanoffRomanoffRomanoff'"
      ]
     },
     "execution_count": 7,
     "metadata": {},
     "output_type": "execute_result"
    }
   ],
   "source": [
    "\"Romanoff\" * 50"
   ]
  },
  {
   "cell_type": "code",
   "execution_count": 8,
   "id": "fa168959",
   "metadata": {},
   "outputs": [
    {
     "data": {
      "text/plain": [
       "'Romanoff Romanoff Romanoff Romanoff Romanoff Romanoff Romanoff Romanoff Romanoff Romanoff Romanoff Romanoff Romanoff Romanoff Romanoff Romanoff Romanoff Romanoff Romanoff Romanoff Romanoff Romanoff Romanoff Romanoff Romanoff Romanoff Romanoff Romanoff Romanoff Romanoff Romanoff Romanoff Romanoff Romanoff Romanoff Romanoff Romanoff Romanoff Romanoff Romanoff Romanoff Romanoff Romanoff Romanoff Romanoff Romanoff Romanoff Romanoff Romanoff Romanoff '"
      ]
     },
     "execution_count": 8,
     "metadata": {},
     "output_type": "execute_result"
    }
   ],
   "source": [
    "\"Romanoff \" * 50 ## notice the space after reading to make the sentence more readible"
   ]
  },
  {
   "cell_type": "markdown",
   "id": "0abc009c",
   "metadata": {},
   "source": [
    "### Math Operators in Python include:\n",
    "* ** - Exponenet - 2**3=8\n",
    "* ÷ - Modulus/Remainder - 22÷8=6\n",
    "* // - Integer Division - 22//8 = 2\n",
    "* / - Division - 22/8 = 2.75\n",
    "* - Multiplication - 3*3 = 9\n",
    "- - Subtraction - 5-2=3\n",
    "+ - Addition - 6+9=15"
   ]
  },
  {
   "cell_type": "markdown",
   "id": "c604ebab",
   "metadata": {},
   "source": [
    "### How to Store Strings in Variables"
   ]
  },
  {
   "cell_type": "code",
   "execution_count": 9,
   "id": "1be6f1df",
   "metadata": {},
   "outputs": [
    {
     "name": "stdout",
     "output_type": "stream",
     "text": [
      "Hello World\n"
     ]
    }
   ],
   "source": [
    "my_str = \"Hello World\"\n",
    "print(my_str)"
   ]
  },
  {
   "cell_type": "markdown",
   "id": "b618b352",
   "metadata": {},
   "source": [
    "### Built in Funtions in Python"
   ]
  },
  {
   "cell_type": "markdown",
   "id": "8eb66e4a",
   "metadata": {},
   "source": [
    "#### Input Function\n",
    "It is a simple way to prompt the user for some input. All user input can be stored as a string."
   ]
  },
  {
   "cell_type": "code",
   "execution_count": 12,
   "id": "501e21cb",
   "metadata": {},
   "outputs": [
    {
     "name": "stdout",
     "output_type": "stream",
     "text": [
      "Hi What is your Name ?Fury\n",
      "Nice to meet you Fury!\n"
     ]
    }
   ],
   "source": [
    "name = input(\"Hi What is your Name ?\")\n",
    "print(\"Nice to meet you \" + name + \"!\")"
   ]
  },
  {
   "cell_type": "code",
   "execution_count": 14,
   "id": "a1175151",
   "metadata": {},
   "outputs": [
    {
     "name": "stdout",
     "output_type": "stream",
     "text": [
      "How old are you25\n",
      "So you are already 25 year old Fury!\n"
     ]
    }
   ],
   "source": [
    "age = input(\"How old are you\")\n",
    "print(\"So you are already \" + str(age) + \" year old \" + name + \"!\")"
   ]
  },
  {
   "cell_type": "markdown",
   "id": "907d979f",
   "metadata": {},
   "source": [
    "#### Len() Function\n",
    "It helps us find the length of any string, list, tuple, dictionary or another data type. It is a handy command to determine excessive values and trim them to optimize the performance of your program"
   ]
  },
  {
   "cell_type": "code",
   "execution_count": 18,
   "id": "741a3f2b",
   "metadata": {},
   "outputs": [
    {
     "name": "stdout",
     "output_type": "stream",
     "text": [
      "The length of the string is: 35\n"
     ]
    }
   ],
   "source": [
    "str1 = \"Hope you are enjoying your tutorial\"\n",
    "print(\"The length of the string is:\",len(str1))"
   ]
  },
  {
   "cell_type": "markdown",
   "id": "b54ac49f",
   "metadata": {},
   "source": [
    "#### Filter Function:\n",
    "It is used to exclude items in an iterable object (lists, tuples,dictionaries, etc)\n"
   ]
  },
  {
   "cell_type": "code",
   "execution_count": 20,
   "id": "fbeade9f",
   "metadata": {},
   "outputs": [
    {
     "name": "stdout",
     "output_type": "stream",
     "text": [
      "5\n",
      "12\n",
      "17\n",
      "18\n"
     ]
    }
   ],
   "source": [
    "ages = [5, 12, 17, 18, 24, 32]\n",
    "def myFunc(x):\n",
    "    if x > 18:\n",
    "        return False\n",
    "    else:\n",
    "        return True\n",
    "\n",
    "adults = filter(myFunc, ages)\n",
    "\n",
    "for x in adults:\n",
    "    print(x)"
   ]
  },
  {
   "cell_type": "code",
   "execution_count": null,
   "id": "ddb6053b",
   "metadata": {},
   "outputs": [],
   "source": []
  }
 ],
 "metadata": {
  "kernelspec": {
   "display_name": "Python 3",
   "language": "python",
   "name": "python3"
  },
  "language_info": {
   "codemirror_mode": {
    "name": "ipython",
    "version": 3
   },
   "file_extension": ".py",
   "mimetype": "text/x-python",
   "name": "python",
   "nbconvert_exporter": "python",
   "pygments_lexer": "ipython3",
   "version": "3.8.8"
  }
 },
 "nbformat": 4,
 "nbformat_minor": 5
}

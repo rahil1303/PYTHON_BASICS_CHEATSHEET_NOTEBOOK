{
 "cells": [
  {
   "cell_type": "markdown",
   "id": "521c2264",
   "metadata": {},
   "source": [
    "# COVER ALL PYTHON BASICS: PART 4 (104)\n"
   ]
  },
  {
   "cell_type": "markdown",
   "id": "3f6669cc",
   "metadata": {},
   "source": [
    "### IF Statements (Conditional Statements) and LOOPS in Python"
   ]
  },
  {
   "cell_type": "markdown",
   "id": "6360ac54",
   "metadata": {},
   "source": [
    "Basic Logical COnditions from Math in Python:\n",
    "\n",
    "\n",
    "Equals: a==b \n",
    "\n",
    "\n",
    "Not Equals: a!=b\n",
    "\n",
    "\n",
    "Less than: a < b\n",
    "\n",
    "\n",
    "Less than or equal to a <= b\n",
    "\n",
    "\n",
    "Greater than: a>b\n",
    "\n",
    "\n",
    "Greater than or equal to: a>=b"
   ]
  },
  {
   "cell_type": "markdown",
   "id": "6c2d4ffe",
   "metadata": {},
   "source": [
    "#### IF STATEMENT EXAMPLE: The goal of a conditional statement is to check if it's true or false."
   ]
  },
  {
   "cell_type": "code",
   "execution_count": 1,
   "id": "1f4a4690",
   "metadata": {},
   "outputs": [
    {
     "name": "stdout",
     "output_type": "stream",
     "text": [
      "That's true\n"
     ]
    }
   ],
   "source": [
    "if 5>1:\n",
    "    print(\"That's true\")"
   ]
  },
  {
   "cell_type": "markdown",
   "id": "2df95174",
   "metadata": {},
   "source": [
    "#### Nested IF Statements: For more complex operations, you can create nested if statements"
   ]
  },
  {
   "cell_type": "code",
   "execution_count": 2,
   "id": "4ab33dc2",
   "metadata": {},
   "outputs": [
    {
     "name": "stdout",
     "output_type": "stream",
     "text": [
      "Above twenty,\n",
      "and also above 30\n"
     ]
    }
   ],
   "source": [
    "x = 35\n",
    "\n",
    "if x > 20:\n",
    "    print(\"Above twenty,\")\n",
    "    if x > 30:\n",
    "        print(\"and also above 30\")"
   ]
  },
  {
   "cell_type": "markdown",
   "id": "1895fab1",
   "metadata": {},
   "source": [
    "#### Elif Statements: It prompts your program to try another condition if the previous one was not true."
   ]
  },
  {
   "cell_type": "code",
   "execution_count": 7,
   "id": "f36479e5",
   "metadata": {},
   "outputs": [
    {
     "name": "stdout",
     "output_type": "stream",
     "text": [
      "23\n",
      "45\n",
      "b is greater than a\n"
     ]
    }
   ],
   "source": [
    "a = int(input())\n",
    "b = int(input())\n",
    "def compare(a,b):\n",
    "    if b > a:\n",
    "        print(\"b is greater than a\")\n",
    "    elif a == b:\n",
    "        print(\"a and b are equal\")\n",
    "compare(a,b)"
   ]
  },
  {
   "cell_type": "markdown",
   "id": "d2594c2e",
   "metadata": {},
   "source": [
    "#### IF ELSE STATEMENTS: else keywords helps you add some additional filters to your condition clause. Here's how an if-elif-else"
   ]
  },
  {
   "cell_type": "code",
   "execution_count": 11,
   "id": "5d05551f",
   "metadata": {},
   "outputs": [
    {
     "name": "stdout",
     "output_type": "stream",
     "text": [
      "44\n"
     ]
    },
    {
     "data": {
      "text/plain": [
       "15"
      ]
     },
     "execution_count": 11,
     "metadata": {},
     "output_type": "execute_result"
    }
   ],
   "source": [
    "age = int(input())\n",
    "def pulse(age,ticket_price):\n",
    "    if age < 4:\n",
    "        ticket_price = 0\n",
    "    elif age < 18:\n",
    "        ticket_price = 10\n",
    "    else:\n",
    "        ticket_price = 15\n",
    "    return ticket_price\n",
    "pulse(age,ticket_price)"
   ]
  },
  {
   "cell_type": "markdown",
   "id": "46f349b7",
   "metadata": {},
   "source": [
    "#### IF NOT STATEMENTS: \"Not\" keyword let's you check for the opposite menaning to verify whether the value is NOT TRUE. "
   ]
  },
  {
   "cell_type": "code",
   "execution_count": 12,
   "id": "0c14ad6b",
   "metadata": {},
   "outputs": [
    {
     "name": "stdout",
     "output_type": "stream",
     "text": [
      "x isn't on the list, so this is true!\n"
     ]
    }
   ],
   "source": [
    "new_list = [1,2,3,4]\n",
    "x = 10\n",
    "if x not in new_list:\n",
    "    print(\"x isn't on the list, so this is true!\")"
   ]
  },
  {
   "cell_type": "markdown",
   "id": "fb21bbe7",
   "metadata": {},
   "source": [
    "#### PASS STATEMENTS. IF statements can't be empty. In case they are: add the pass statement to avoid having an error:"
   ]
  },
  {
   "cell_type": "code",
   "execution_count": 13,
   "id": "fadef369",
   "metadata": {},
   "outputs": [],
   "source": [
    "a = 33\n",
    "b = 200\n",
    "if b > a:\n",
    "    pass"
   ]
  },
  {
   "cell_type": "markdown",
   "id": "fc32e897",
   "metadata": {},
   "source": [
    "### PYTHON HAS TWO SIMPLE LOOP COMMANDS THAT ARE GOOD TO KNOW:\n",
    "1. FOR LOOPS\n",
    "2. WHILE LOOPS"
   ]
  },
  {
   "cell_type": "markdown",
   "id": "814fab77",
   "metadata": {},
   "source": [
    "#### FOR LOOPS: It is a handy way of iterating over a sequence such as list, tuple, dictionary, string etc. "
   ]
  },
  {
   "cell_type": "code",
   "execution_count": 20,
   "id": "e9d5c0e7",
   "metadata": {},
   "outputs": [
    {
     "name": "stdout",
     "output_type": "stream",
     "text": [
      "a\n",
      "p\n",
      "p\n",
      "l\n",
      "e\n"
     ]
    }
   ],
   "source": [
    "for x in \"apple\":\n",
    "    print(x)"
   ]
  },
  {
   "cell_type": "markdown",
   "id": "bcd3a2c3",
   "metadata": {},
   "source": [
    "#### WHILE LOOP: It enables you to execute a set of statements as long as the condition for them is true"
   ]
  },
  {
   "cell_type": "code",
   "execution_count": 23,
   "id": "9528dcad",
   "metadata": {},
   "outputs": [
    {
     "name": "stdout",
     "output_type": "stream",
     "text": [
      "e\n",
      "e\n",
      "e\n",
      "e\n"
     ]
    }
   ],
   "source": [
    "# print as long as x is less than 8\n",
    "\n",
    "i = 4\n",
    "while i<8:\n",
    "    print(x)\n",
    "    i+=1"
   ]
  },
  {
   "cell_type": "code",
   "execution_count": 24,
   "id": "83710b92",
   "metadata": {},
   "outputs": [
    {
     "name": "stdout",
     "output_type": "stream",
     "text": [
      "e\n",
      "e\n",
      "e\n",
      "e\n",
      "e\n",
      "e\n",
      "e\n"
     ]
    }
   ],
   "source": [
    "# print as long as x is less than 8\n",
    "\n",
    "i = 1\n",
    "while i<8:\n",
    "    print(x)\n",
    "    i+=1"
   ]
  },
  {
   "cell_type": "markdown",
   "id": "dea5f32e",
   "metadata": {},
   "source": [
    "#### How to Break a LOOP: You can also stop the loop from running even if the condition is met. For that, use the break statement both in while and for loops:"
   ]
  },
  {
   "cell_type": "code",
   "execution_count": 25,
   "id": "2240732d",
   "metadata": {},
   "outputs": [
    {
     "name": "stdout",
     "output_type": "stream",
     "text": [
      "1\n",
      "2\n",
      "3\n",
      "4\n"
     ]
    }
   ],
   "source": [
    "i = 1\n",
    "while i < 8:\n",
    "    print(i)\n",
    "    if i == 4:\n",
    "        break\n",
    "    i += 1"
   ]
  },
  {
   "cell_type": "code",
   "execution_count": null,
   "id": "5c0e51bc",
   "metadata": {},
   "outputs": [],
   "source": []
  }
 ],
 "metadata": {
  "kernelspec": {
   "display_name": "Python 3",
   "language": "python",
   "name": "python3"
  },
  "language_info": {
   "codemirror_mode": {
    "name": "ipython",
    "version": 3
   },
   "file_extension": ".py",
   "mimetype": "text/x-python",
   "name": "python",
   "nbconvert_exporter": "python",
   "pygments_lexer": "ipython3",
   "version": "3.8.8"
  }
 },
 "nbformat": 4,
 "nbformat_minor": 5
}
